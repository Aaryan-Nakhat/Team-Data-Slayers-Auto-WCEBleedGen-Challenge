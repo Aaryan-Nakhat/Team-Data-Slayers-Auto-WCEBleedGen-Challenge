{
 "cells": [
  {
   "cell_type": "markdown",
   "metadata": {},
   "source": [
    "## This Notebook is run in a Kaggle P100 notebook instance\n",
    "\n",
    "We used ConvNeXT transformer as the classification model. We finetuned it on the Auto-WCE dataset\n",
    "__________\n",
    "\n",
    "### Installing the dependencies"
   ]
  },
  {
   "cell_type": "code",
   "execution_count": 1,
   "metadata": {
    "_cell_guid": "b1076dfc-b9ad-4769-8c92-a6c4dae69d19",
    "_uuid": "8f2839f25d086af736a60e9eeb907d3b93b6e0e5",
    "execution": {
     "iopub.execute_input": "2023-09-20T15:58:18.210332Z",
     "iopub.status.busy": "2023-09-20T15:58:18.209942Z",
     "iopub.status.idle": "2023-09-20T15:58:30.077253Z",
     "shell.execute_reply": "2023-09-20T15:58:30.075987Z",
     "shell.execute_reply.started": "2023-09-20T15:58:18.210292Z"
    }
   },
   "outputs": [],
   "source": [
    "!pip install -q transformers datasets"
   ]
  },
  {
   "cell_type": "code",
   "execution_count": 3,
   "metadata": {
    "execution": {
     "iopub.execute_input": "2023-09-20T15:58:34.123797Z",
     "iopub.status.busy": "2023-09-20T15:58:34.123415Z",
     "iopub.status.idle": "2023-09-20T15:59:21.873329Z",
     "shell.execute_reply": "2023-09-20T15:59:21.872233Z",
     "shell.execute_reply.started": "2023-09-20T15:58:34.123763Z"
    }
   },
   "outputs": [
    {
     "name": "stdout",
     "output_type": "stream",
     "text": [
      "\u001b[31mERROR: pip's dependency resolver does not currently take into account all the packages that are installed. This behaviour is the source of the following dependency conflicts.\n",
      "apache-beam 2.46.0 requires dill<0.3.2,>=0.3.1.1, but you have dill 0.3.6 which is incompatible.\n",
      "apache-beam 2.46.0 requires pyarrow<10.0.0,>=3.0.0, but you have pyarrow 11.0.0 which is incompatible.\n",
      "pathos 0.3.1 requires dill>=0.3.7, but you have dill 0.3.6 which is incompatible.\n",
      "pathos 0.3.1 requires multiprocess>=0.70.15, but you have multiprocess 0.70.14 which is incompatible.\n",
      "pymc3 3.11.5 requires numpy<1.22.2,>=1.15.0, but you have numpy 1.23.5 which is incompatible.\n",
      "pymc3 3.11.5 requires scipy<1.8.0,>=1.7.3, but you have scipy 1.11.2 which is incompatible.\u001b[0m\u001b[31m\n",
      "\u001b[0m"
     ]
    }
   ],
   "source": [
    "# All these are done so as to resolve certain dependency errors!\n",
    "! pip install -q -U accelerate\n",
    "! pip install -q -U transformers\n",
    "!pip install -q datasets==2.9.0"
   ]
  },
  {
   "cell_type": "markdown",
   "metadata": {},
   "source": [
    "### Logging in to huggingface so as to push the dataset and model to the Hub"
   ]
  },
  {
   "cell_type": "code",
   "execution_count": 5,
   "metadata": {
    "execution": {
     "iopub.execute_input": "2023-09-20T15:59:48.111951Z",
     "iopub.status.busy": "2023-09-20T15:59:48.111569Z",
     "iopub.status.idle": "2023-09-20T15:59:48.394251Z",
     "shell.execute_reply": "2023-09-20T15:59:48.393295Z",
     "shell.execute_reply.started": "2023-09-20T15:59:48.111909Z"
    }
   },
   "outputs": [
    {
     "data": {
      "application/vnd.jupyter.widget-view+json": {
       "model_id": "30bf4684f59f4e3cbc9c671e74718cf1",
       "version_major": 2,
       "version_minor": 0
      },
      "text/plain": [
       "VBox(children=(HTML(value='<center> <img\\nsrc=https://huggingface.co/front/assets/huggingface_logo-noborder.sv…"
      ]
     },
     "metadata": {},
     "output_type": "display_data"
    }
   ],
   "source": [
    "from huggingface_hub import notebook_login\n",
    "notebook_login()"
   ]
  },
  {
   "cell_type": "markdown",
   "metadata": {},
   "source": [
    "### Imports"
   ]
  },
  {
   "cell_type": "code",
   "execution_count": 6,
   "metadata": {
    "execution": {
     "iopub.execute_input": "2023-09-20T15:59:54.748633Z",
     "iopub.status.busy": "2023-09-20T15:59:54.748279Z",
     "iopub.status.idle": "2023-09-20T16:00:07.657530Z",
     "shell.execute_reply": "2023-09-20T16:00:07.656374Z",
     "shell.execute_reply.started": "2023-09-20T15:59:54.748605Z"
    }
   },
   "outputs": [
    {
     "name": "stderr",
     "output_type": "stream",
     "text": [
      "/opt/conda/lib/python3.10/site-packages/scipy/__init__.py:146: UserWarning: A NumPy version >=1.16.5 and <1.23.0 is required for this version of SciPy (detected version 1.23.5\n",
      "  warnings.warn(f\"A NumPy version >={np_minversion} and <{np_maxversion}\"\n"
     ]
    }
   ],
   "source": [
    "import numpy as np\n",
    "import pandas as pd\n",
    "import matplotlib.pyplot as plt\n",
    "import seaborn as sns\n",
    "from datasets import Dataset, DatasetDict, load_metric, load_dataset\n",
    "import torch\n",
    "from torch import nn\n",
    "import transformers\n",
    "from transformers import ConvNextFeatureExtractor, AutoModelForImageClassification, TrainingArguments, Trainer\n",
    "from transformers.modeling_outputs import SequenceClassifierOutput\n",
    "from transformers import EarlyStoppingCallback\n",
    "import accelerate\n",
    "from tqdm import tqdm\n",
    "import os\n",
    "from sklearn.metrics import accuracy_score, roc_auc_score, confusion_matrix, classification_report, precision_recall_fscore_support, ConfusionMatrixDisplay\n",
    "import warnings\n",
    "warnings.filterwarnings('ignore')"
   ]
  },
  {
   "cell_type": "markdown",
   "metadata": {},
   "source": [
    "### Data Handling"
   ]
  },
  {
   "cell_type": "code",
   "execution_count": 2,
   "metadata": {
    "execution": {
     "iopub.execute_input": "2023-09-20T16:00:12.782468Z",
     "iopub.status.busy": "2023-09-20T16:00:12.782020Z",
     "iopub.status.idle": "2023-09-20T16:00:19.003189Z",
     "shell.execute_reply": "2023-09-20T16:00:19.002224Z",
     "shell.execute_reply.started": "2023-09-20T16:00:12.782432Z"
    }
   },
   "outputs": [],
   "source": [
    "## Loading the dataset from Kaggle\n",
    "\n",
    "dataset = load_dataset(\"imagefolder\", data_dir=\"/kaggle/input/misahub-wce-dataset\")"
   ]
  },
  {
   "cell_type": "code",
   "execution_count": 9,
   "metadata": {
    "execution": {
     "iopub.execute_input": "2023-09-20T16:00:20.902763Z",
     "iopub.status.busy": "2023-09-20T16:00:20.902381Z",
     "iopub.status.idle": "2023-09-20T16:00:20.909759Z",
     "shell.execute_reply": "2023-09-20T16:00:20.908703Z",
     "shell.execute_reply.started": "2023-09-20T16:00:20.902735Z"
    }
   },
   "outputs": [
    {
     "data": {
      "text/plain": [
       "DatasetDict({\n",
       "    train: Dataset({\n",
       "        features: ['image', 'label'],\n",
       "        num_rows: 2618\n",
       "    })\n",
       "})"
      ]
     },
     "execution_count": 9,
     "metadata": {},
     "output_type": "execute_result"
    }
   ],
   "source": [
    "dataset  # sanity check"
   ]
  },
  {
   "cell_type": "code",
   "execution_count": 10,
   "metadata": {
    "execution": {
     "iopub.execute_input": "2023-09-20T16:00:22.868230Z",
     "iopub.status.busy": "2023-09-20T16:00:22.867516Z",
     "iopub.status.idle": "2023-09-20T16:00:22.895239Z",
     "shell.execute_reply": "2023-09-20T16:00:22.893276Z",
     "shell.execute_reply.started": "2023-09-20T16:00:22.868190Z"
    }
   },
   "outputs": [
    {
     "data": {
      "text/plain": [
       "(224, 224, 3)"
      ]
     },
     "execution_count": 10,
     "metadata": {},
     "output_type": "execute_result"
    }
   ],
   "source": [
    "np.array(dataset['train'][0]['image']).shape  # sanity check"
   ]
  },
  {
   "cell_type": "code",
   "execution_count": 11,
   "metadata": {
    "execution": {
     "iopub.execute_input": "2023-09-20T16:00:30.357579Z",
     "iopub.status.busy": "2023-09-20T16:00:30.356852Z",
     "iopub.status.idle": "2023-09-20T16:00:30.447050Z",
     "shell.execute_reply": "2023-09-20T16:00:30.445865Z",
     "shell.execute_reply.started": "2023-09-20T16:00:30.357545Z"
    }
   },
   "outputs": [
    {
     "name": "stdout",
     "output_type": "stream",
     "text": [
      "Number of examples in the entire dataset: 2618\n",
      "Number of examples in training set: 2094\n",
      "Number of examples in validation set: 524\n"
     ]
    }
   ],
   "source": [
    "# sanity checks\n",
    "\n",
    "print(f\"Number of examples in the entire dataset: {len(dataset['train'])}\")\n",
    "dataset = dataset['train'].train_test_split(test_size=0.2, shuffle=True, seed=42)\n",
    "print(f\"Number of examples in training set: {len(dataset['train'])}\")\n",
    "print(f\"Number of examples in validation set: {len(dataset['test'])}\")"
   ]
  },
  {
   "cell_type": "code",
   "execution_count": 12,
   "metadata": {
    "execution": {
     "iopub.execute_input": "2023-09-20T16:00:43.150363Z",
     "iopub.status.busy": "2023-09-20T16:00:43.149948Z",
     "iopub.status.idle": "2023-09-20T16:00:43.158305Z",
     "shell.execute_reply": "2023-09-20T16:00:43.157139Z",
     "shell.execute_reply.started": "2023-09-20T16:00:43.150330Z"
    }
   },
   "outputs": [
    {
     "data": {
      "text/plain": [
       "DatasetDict({\n",
       "    train: Dataset({\n",
       "        features: ['image', 'label'],\n",
       "        num_rows: 2094\n",
       "    })\n",
       "    test: Dataset({\n",
       "        features: ['image', 'label'],\n",
       "        num_rows: 524\n",
       "    })\n",
       "})"
      ]
     },
     "execution_count": 12,
     "metadata": {},
     "output_type": "execute_result"
    }
   ],
   "source": [
    "dataset  # sanity check"
   ]
  },
  {
   "cell_type": "code",
   "execution_count": 13,
   "metadata": {
    "execution": {
     "iopub.execute_input": "2023-09-20T16:00:48.156989Z",
     "iopub.status.busy": "2023-09-20T16:00:48.156621Z",
     "iopub.status.idle": "2023-09-20T16:00:48.163330Z",
     "shell.execute_reply": "2023-09-20T16:00:48.162307Z",
     "shell.execute_reply.started": "2023-09-20T16:00:48.156958Z"
    }
   },
   "outputs": [
    {
     "name": "stdout",
     "output_type": "stream",
     "text": [
      "DatasetDict({\n",
      "    train: Dataset({\n",
      "        features: ['image', 'label'],\n",
      "        num_rows: 2094\n",
      "    })\n",
      "    validation: Dataset({\n",
      "        features: ['image', 'label'],\n",
      "        num_rows: 524\n",
      "    })\n",
      "})\n"
     ]
    }
   ],
   "source": [
    "dataset_dict = DatasetDict({\n",
    "              \"train\": dataset['train'],\n",
    "              \"validation\": dataset['test']})\n",
    "\n",
    "print(dataset_dict)  # sanity check"
   ]
  },
  {
   "cell_type": "code",
   "execution_count": 14,
   "metadata": {
    "execution": {
     "iopub.execute_input": "2023-09-20T16:00:53.713353Z",
     "iopub.status.busy": "2023-09-20T16:00:53.712565Z",
     "iopub.status.idle": "2023-09-20T16:01:26.887464Z",
     "shell.execute_reply": "2023-09-20T16:01:26.886437Z",
     "shell.execute_reply.started": "2023-09-20T16:00:53.713314Z"
    }
   },
   "outputs": [
    {
     "data": {
      "application/vnd.jupyter.widget-view+json": {
       "model_id": "f22c8dbf4dde48c692224b003ea0b645",
       "version_major": 2,
       "version_minor": 0
      },
      "text/plain": [
       "  0%|          | 0/3 [00:00<?, ?ba/s]"
      ]
     },
     "metadata": {},
     "output_type": "display_data"
    },
    {
     "data": {
      "application/vnd.jupyter.widget-view+json": {
       "model_id": "9eee77988a4d4c47a41e93e90b39e911",
       "version_major": 2,
       "version_minor": 0
      },
      "text/plain": [
       "Pushing dataset shards to the dataset hub:   0%|          | 0/1 [00:00<?, ?it/s]"
      ]
     },
     "metadata": {},
     "output_type": "display_data"
    },
    {
     "data": {
      "application/vnd.jupyter.widget-view+json": {
       "model_id": "848871b1fa174566a5cd522c05d4d464",
       "version_major": 2,
       "version_minor": 0
      },
      "text/plain": [
       "Creating parquet from Arrow format:   0%|          | 0/3 [00:00<?, ?ba/s]"
      ]
     },
     "metadata": {},
     "output_type": "display_data"
    },
    {
     "data": {
      "application/vnd.jupyter.widget-view+json": {
       "model_id": "7fe3599b0a4c4f16ae36bfcdcbde7f60",
       "version_major": 2,
       "version_minor": 0
      },
      "text/plain": [
       "  0%|          | 0/1 [00:00<?, ?ba/s]"
      ]
     },
     "metadata": {},
     "output_type": "display_data"
    },
    {
     "data": {
      "application/vnd.jupyter.widget-view+json": {
       "model_id": "fa0c44a7578745f09d1f6b20fb1487d3",
       "version_major": 2,
       "version_minor": 0
      },
      "text/plain": [
       "Pushing dataset shards to the dataset hub:   0%|          | 0/1 [00:00<?, ?it/s]"
      ]
     },
     "metadata": {},
     "output_type": "display_data"
    },
    {
     "data": {
      "application/vnd.jupyter.widget-view+json": {
       "model_id": "b2a66c2d9d6a46c2a7294af76e783c94",
       "version_major": 2,
       "version_minor": 0
      },
      "text/plain": [
       "Creating parquet from Arrow format:   0%|          | 0/1 [00:00<?, ?ba/s]"
      ]
     },
     "metadata": {},
     "output_type": "display_data"
    }
   ],
   "source": [
    "## Pushing the dataset to the HuggingFace Hub\n",
    "\n",
    "dataset_dict.push_to_hub(\"MisaHub_WCE_train_val\")"
   ]
  },
  {
   "cell_type": "markdown",
   "metadata": {},
   "source": [
    "## Loading the already pushed dataset from HuggingFace"
   ]
  },
  {
   "cell_type": "code",
   "execution_count": 15,
   "metadata": {
    "execution": {
     "iopub.execute_input": "2023-09-20T16:02:45.515710Z",
     "iopub.status.busy": "2023-09-20T16:02:45.515294Z",
     "iopub.status.idle": "2023-09-20T16:03:17.318419Z",
     "shell.execute_reply": "2023-09-20T16:03:17.317451Z",
     "shell.execute_reply.started": "2023-09-20T16:02:45.515679Z"
    }
   },
   "outputs": [
    {
     "data": {
      "application/vnd.jupyter.widget-view+json": {
       "model_id": "54c1e6c54ddb48a6b5e490589d022288",
       "version_major": 2,
       "version_minor": 0
      },
      "text/plain": [
       "Downloading readme:   0%|          | 0.00/569 [00:00<?, ?B/s]"
      ]
     },
     "metadata": {},
     "output_type": "display_data"
    },
    {
     "name": "stdout",
     "output_type": "stream",
     "text": [
      "Downloading and preparing dataset None/None to /root/.cache/huggingface/datasets/Aaryan333___parquet/Aaryan333--MisaHub_WCE_train_val-fa674f4364947da8/0.0.0/2a3b91fbd88a2c90d1dbbb32b460cf621d31bd5b05b934492fdef7d8d6f236ec...\n"
     ]
    },
    {
     "data": {
      "application/vnd.jupyter.widget-view+json": {
       "model_id": "94f10961adaa45efbfff0ea8b0d029e4",
       "version_major": 2,
       "version_minor": 0
      },
      "text/plain": [
       "Downloading data files:   0%|          | 0/2 [00:00<?, ?it/s]"
      ]
     },
     "metadata": {},
     "output_type": "display_data"
    },
    {
     "data": {
      "application/vnd.jupyter.widget-view+json": {
       "model_id": "4b6c800f18b4441bbe3f19c41752a811",
       "version_major": 2,
       "version_minor": 0
      },
      "text/plain": [
       "Downloading data:   0%|          | 0.00/130M [00:00<?, ?B/s]"
      ]
     },
     "metadata": {},
     "output_type": "display_data"
    },
    {
     "data": {
      "application/vnd.jupyter.widget-view+json": {
       "model_id": "7cfa6d32929d472fb1ad50d865e30b93",
       "version_major": 2,
       "version_minor": 0
      },
      "text/plain": [
       "Downloading data:   0%|          | 0.00/32.1M [00:00<?, ?B/s]"
      ]
     },
     "metadata": {},
     "output_type": "display_data"
    },
    {
     "data": {
      "application/vnd.jupyter.widget-view+json": {
       "model_id": "01082a52d0e44f96be8c953133671f1f",
       "version_major": 2,
       "version_minor": 0
      },
      "text/plain": [
       "Extracting data files:   0%|          | 0/2 [00:00<?, ?it/s]"
      ]
     },
     "metadata": {},
     "output_type": "display_data"
    },
    {
     "data": {
      "application/vnd.jupyter.widget-view+json": {
       "model_id": "",
       "version_major": 2,
       "version_minor": 0
      },
      "text/plain": [
       "Generating train split:   0%|          | 0/2094 [00:00<?, ? examples/s]"
      ]
     },
     "metadata": {},
     "output_type": "display_data"
    },
    {
     "data": {
      "application/vnd.jupyter.widget-view+json": {
       "model_id": "",
       "version_major": 2,
       "version_minor": 0
      },
      "text/plain": [
       "Generating validation split:   0%|          | 0/524 [00:00<?, ? examples/s]"
      ]
     },
     "metadata": {},
     "output_type": "display_data"
    },
    {
     "name": "stdout",
     "output_type": "stream",
     "text": [
      "Dataset parquet downloaded and prepared to /root/.cache/huggingface/datasets/Aaryan333___parquet/Aaryan333--MisaHub_WCE_train_val-fa674f4364947da8/0.0.0/2a3b91fbd88a2c90d1dbbb32b460cf621d31bd5b05b934492fdef7d8d6f236ec. Subsequent calls will reuse this data.\n"
     ]
    },
    {
     "data": {
      "application/vnd.jupyter.widget-view+json": {
       "model_id": "b4f50ff7c6c7435ba20118baafa4b57a",
       "version_major": 2,
       "version_minor": 0
      },
      "text/plain": [
       "  0%|          | 0/2 [00:00<?, ?it/s]"
      ]
     },
     "metadata": {},
     "output_type": "display_data"
    }
   ],
   "source": [
    "## Loading the dataset from the HuggingFace Hub\n",
    "\n",
    "dataset = load_dataset(\"Aaryan333/MisaHub_WCE_train_val\")"
   ]
  },
  {
   "cell_type": "code",
   "execution_count": 16,
   "metadata": {
    "execution": {
     "iopub.execute_input": "2023-09-20T16:03:24.609895Z",
     "iopub.status.busy": "2023-09-20T16:03:24.609524Z",
     "iopub.status.idle": "2023-09-20T16:03:24.616747Z",
     "shell.execute_reply": "2023-09-20T16:03:24.615713Z",
     "shell.execute_reply.started": "2023-09-20T16:03:24.609866Z"
    }
   },
   "outputs": [
    {
     "data": {
      "text/plain": [
       "DatasetDict({\n",
       "    train: Dataset({\n",
       "        features: ['image', 'label'],\n",
       "        num_rows: 2094\n",
       "    })\n",
       "    validation: Dataset({\n",
       "        features: ['image', 'label'],\n",
       "        num_rows: 524\n",
       "    })\n",
       "})"
      ]
     },
     "execution_count": 16,
     "metadata": {},
     "output_type": "execute_result"
    }
   ],
   "source": [
    "dataset  # sanity check"
   ]
  },
  {
   "cell_type": "code",
   "execution_count": 18,
   "metadata": {
    "execution": {
     "iopub.execute_input": "2023-09-20T16:03:36.485344Z",
     "iopub.status.busy": "2023-09-20T16:03:36.484981Z",
     "iopub.status.idle": "2023-09-20T16:03:36.492292Z",
     "shell.execute_reply": "2023-09-20T16:03:36.491220Z",
     "shell.execute_reply.started": "2023-09-20T16:03:36.485314Z"
    }
   },
   "outputs": [
    {
     "data": {
      "text/plain": [
       "{'image': Image(decode=True, id=None),\n",
       " 'label': ClassLabel(names=['bleeding', 'non_bleeding'], id=None)}"
      ]
     },
     "execution_count": 18,
     "metadata": {},
     "output_type": "execute_result"
    }
   ],
   "source": [
    "dataset[\"train\"].features  # sanity check"
   ]
  },
  {
   "cell_type": "code",
   "execution_count": 19,
   "metadata": {
    "execution": {
     "iopub.execute_input": "2023-09-20T16:03:48.100243Z",
     "iopub.status.busy": "2023-09-20T16:03:48.099803Z",
     "iopub.status.idle": "2023-09-20T16:03:48.135190Z",
     "shell.execute_reply": "2023-09-20T16:03:48.134105Z",
     "shell.execute_reply.started": "2023-09-20T16:03:48.100209Z"
    }
   },
   "outputs": [
    {
     "data": {
      "image/png": "[encoded data removed]",
      "text/plain": [
       "<PIL.PngImagePlugin.PngImageFile image mode=RGB size=224x224>"
      ]
     },
     "execution_count": 19,
     "metadata": {},
     "output_type": "execute_result"
    }
   ],
   "source": [
    "example = dataset[\"train\"][0]  \n",
    "example[\"image\"]  # sanity check"
   ]
  },
  {
   "cell_type": "code",
   "execution_count": 20,
   "metadata": {
    "execution": {
     "iopub.execute_input": "2023-09-20T16:03:51.731432Z",
     "iopub.status.busy": "2023-09-20T16:03:51.730314Z",
     "iopub.status.idle": "2023-09-20T16:03:51.739524Z",
     "shell.execute_reply": "2023-09-20T16:03:51.738588Z",
     "shell.execute_reply.started": "2023-09-20T16:03:51.731393Z"
    }
   },
   "outputs": [
    {
     "data": {
      "text/plain": [
       "0"
      ]
     },
     "execution_count": 20,
     "metadata": {},
     "output_type": "execute_result"
    }
   ],
   "source": [
    "example[\"label\"]  # sanity check (corresponds to bleeding)"
   ]
  },
  {
   "cell_type": "code",
   "execution_count": 21,
   "metadata": {
    "execution": {
     "iopub.execute_input": "2023-09-20T16:04:03.481621Z",
     "iopub.status.busy": "2023-09-20T16:04:03.481246Z",
     "iopub.status.idle": "2023-09-20T16:04:03.487136Z",
     "shell.execute_reply": "2023-09-20T16:04:03.485949Z",
     "shell.execute_reply.started": "2023-09-20T16:04:03.481593Z"
    }
   },
   "outputs": [
    {
     "name": "stdout",
     "output_type": "stream",
     "text": [
      "['bleeding', 'non_bleeding']\n"
     ]
    }
   ],
   "source": [
    "class_labels = dataset[\"train\"].features[\"label\"].names\n",
    "print(class_labels)  # sanity check"
   ]
  },
  {
   "cell_type": "code",
   "execution_count": 22,
   "metadata": {
    "execution": {
     "iopub.execute_input": "2023-09-20T16:04:10.159742Z",
     "iopub.status.busy": "2023-09-20T16:04:10.158755Z",
     "iopub.status.idle": "2023-09-20T16:04:10.165345Z",
     "shell.execute_reply": "2023-09-20T16:04:10.164081Z",
     "shell.execute_reply.started": "2023-09-20T16:04:10.159699Z"
    }
   },
   "outputs": [],
   "source": [
    "id2label = {k:v for k,v in enumerate(class_labels)}\n",
    "label2id = {v:k for k,v in enumerate(class_labels)}  # will be needed later"
   ]
  },
  {
   "cell_type": "code",
   "execution_count": 23,
   "metadata": {
    "execution": {
     "iopub.execute_input": "2023-09-20T16:04:14.420875Z",
     "iopub.status.busy": "2023-09-20T16:04:14.420132Z",
     "iopub.status.idle": "2023-09-20T16:04:14.427140Z",
     "shell.execute_reply": "2023-09-20T16:04:14.426130Z",
     "shell.execute_reply.started": "2023-09-20T16:04:14.420841Z"
    }
   },
   "outputs": [
    {
     "data": {
      "text/plain": [
       "{0: 'bleeding', 1: 'non_bleeding'}"
      ]
     },
     "execution_count": 23,
     "metadata": {},
     "output_type": "execute_result"
    }
   ],
   "source": [
    "id2label  # sanity check"
   ]
  },
  {
   "cell_type": "markdown",
   "metadata": {},
   "source": [
    "### ConvNeXT Preprocessing"
   ]
  },
  {
   "cell_type": "code",
   "execution_count": 24,
   "metadata": {
    "execution": {
     "iopub.execute_input": "2023-09-20T16:04:22.826751Z",
     "iopub.status.busy": "2023-09-20T16:04:22.825667Z",
     "iopub.status.idle": "2023-09-20T16:04:23.290998Z",
     "shell.execute_reply": "2023-09-20T16:04:23.290056Z",
     "shell.execute_reply.started": "2023-09-20T16:04:22.826705Z"
    }
   },
   "outputs": [
    {
     "data": {
      "application/vnd.jupyter.widget-view+json": {
       "model_id": "b5e27c5009ad4d568143b4a9227c5364",
       "version_major": 2,
       "version_minor": 0
      },
      "text/plain": [
       "Downloading (…)rocessor_config.json:   0%|          | 0.00/266 [00:00<?, ?B/s]"
      ]
     },
     "metadata": {},
     "output_type": "display_data"
    }
   ],
   "source": [
    "feature_extractor = ConvNextFeatureExtractor.from_pretrained(\"facebook/convnext-tiny-224\")"
   ]
  },
  {
   "cell_type": "code",
   "execution_count": 25,
   "metadata": {
    "execution": {
     "iopub.execute_input": "2023-09-20T16:04:26.376933Z",
     "iopub.status.busy": "2023-09-20T16:04:26.376140Z",
     "iopub.status.idle": "2023-09-20T16:04:26.382624Z",
     "shell.execute_reply": "2023-09-20T16:04:26.381571Z",
     "shell.execute_reply.started": "2023-09-20T16:04:26.376887Z"
    }
   },
   "outputs": [
    {
     "name": "stdout",
     "output_type": "stream",
     "text": [
      "ConvNextFeatureExtractor {\n",
      "  \"crop_pct\": 0.875,\n",
      "  \"do_normalize\": true,\n",
      "  \"do_rescale\": true,\n",
      "  \"do_resize\": true,\n",
      "  \"feature_extractor_type\": \"ConvNextFeatureExtractor\",\n",
      "  \"image_mean\": [\n",
      "    0.485,\n",
      "    0.456,\n",
      "    0.406\n",
      "  ],\n",
      "  \"image_processor_type\": \"ConvNextFeatureExtractor\",\n",
      "  \"image_std\": [\n",
      "    0.229,\n",
      "    0.224,\n",
      "    0.225\n",
      "  ],\n",
      "  \"resample\": 3,\n",
      "  \"rescale_factor\": 0.00392156862745098,\n",
      "  \"size\": {\n",
      "    \"shortest_edge\": 224\n",
      "  }\n",
      "}\n",
      "\n"
     ]
    }
   ],
   "source": [
    "print(feature_extractor)  # sanity check"
   ]
  },
  {
   "cell_type": "code",
   "execution_count": 32,
   "metadata": {
    "execution": {
     "iopub.execute_input": "2023-09-20T16:08:12.583839Z",
     "iopub.status.busy": "2023-09-20T16:08:12.583350Z",
     "iopub.status.idle": "2023-09-20T16:08:12.590655Z",
     "shell.execute_reply": "2023-09-20T16:08:12.589785Z",
     "shell.execute_reply.started": "2023-09-20T16:08:12.583803Z"
    }
   },
   "outputs": [],
   "source": [
    "## Loading torchvision transforms\n",
    "\n",
    "from torchvision.transforms import Compose, Resize, ToTensor\n",
    "\n",
    "transform = Compose(\n",
    "    [\n",
    "     Resize(feature_extractor.size['shortest_edge']),  # ConvNeXT needs images of this size\n",
    "     ToTensor()  # so PIL to Tensor\n",
    "    ]\n",
    ")"
   ]
  },
  {
   "cell_type": "code",
   "execution_count": 33,
   "metadata": {
    "execution": {
     "iopub.execute_input": "2023-09-20T16:08:42.977066Z",
     "iopub.status.busy": "2023-09-20T16:08:42.976695Z",
     "iopub.status.idle": "2023-09-20T16:08:42.982368Z",
     "shell.execute_reply": "2023-09-20T16:08:42.981281Z",
     "shell.execute_reply.started": "2023-09-20T16:08:42.977035Z"
    }
   },
   "outputs": [],
   "source": [
    "def transforms(examples):\n",
    "    examples[\"pixel_values\"] = [transform(img.convert(\"RGB\")) for img in examples[\"image\"]]\n",
    "    return examples"
   ]
  },
  {
   "cell_type": "code",
   "execution_count": 34,
   "metadata": {
    "execution": {
     "iopub.execute_input": "2023-09-20T16:08:44.899892Z",
     "iopub.status.busy": "2023-09-20T16:08:44.899198Z",
     "iopub.status.idle": "2023-09-20T16:08:44.913307Z",
     "shell.execute_reply": "2023-09-20T16:08:44.912338Z",
     "shell.execute_reply.started": "2023-09-20T16:08:44.899859Z"
    }
   },
   "outputs": [],
   "source": [
    "processed_dataset = dataset.with_transform(transforms)  \n",
    "\n",
    "# applies transforms on the fly when in use only, doesn't apply the transform beforehand and save in memory!"
   ]
  },
  {
   "cell_type": "code",
   "execution_count": 35,
   "metadata": {
    "execution": {
     "iopub.execute_input": "2023-09-20T16:09:03.778033Z",
     "iopub.status.busy": "2023-09-20T16:09:03.777054Z",
     "iopub.status.idle": "2023-09-20T16:09:03.839344Z",
     "shell.execute_reply": "2023-09-20T16:09:03.838168Z",
     "shell.execute_reply.started": "2023-09-20T16:09:03.777995Z"
    }
   },
   "outputs": [
    {
     "data": {
      "text/plain": [
       "torch.Size([3, 224, 224])"
      ]
     },
     "execution_count": 35,
     "metadata": {},
     "output_type": "execute_result"
    }
   ],
   "source": [
    "processed_dataset[\"train\"][0][\"pixel_values\"].shape  # sanity check"
   ]
  },
  {
   "cell_type": "code",
   "execution_count": 36,
   "metadata": {
    "execution": {
     "iopub.execute_input": "2023-09-20T16:09:15.803547Z",
     "iopub.status.busy": "2023-09-20T16:09:15.803140Z",
     "iopub.status.idle": "2023-09-20T16:09:15.843926Z",
     "shell.execute_reply": "2023-09-20T16:09:15.842866Z",
     "shell.execute_reply.started": "2023-09-20T16:09:15.803514Z"
    }
   },
   "outputs": [
    {
     "data": {
      "text/plain": [
       "{'image': <PIL.PngImagePlugin.PngImageFile image mode=RGB size=224x224>,\n",
       " 'label': 0,\n",
       " 'pixel_values': tensor([[[0., 0., 0.,  ..., 0., 0., 0.],\n",
       "          [0., 0., 0.,  ..., 0., 0., 0.],\n",
       "          [0., 0., 0.,  ..., 0., 0., 0.],\n",
       "          ...,\n",
       "          [0., 0., 0.,  ..., 0., 0., 0.],\n",
       "          [0., 0., 0.,  ..., 0., 0., 0.],\n",
       "          [0., 0., 0.,  ..., 0., 0., 0.]],\n",
       " \n",
       "         [[0., 0., 0.,  ..., 0., 0., 0.],\n",
       "          [0., 0., 0.,  ..., 0., 0., 0.],\n",
       "          [0., 0., 0.,  ..., 0., 0., 0.],\n",
       "          ...,\n",
       "          [0., 0., 0.,  ..., 0., 0., 0.],\n",
       "          [0., 0., 0.,  ..., 0., 0., 0.],\n",
       "          [0., 0., 0.,  ..., 0., 0., 0.]],\n",
       " \n",
       "         [[0., 0., 0.,  ..., 0., 0., 0.],\n",
       "          [0., 0., 0.,  ..., 0., 0., 0.],\n",
       "          [0., 0., 0.,  ..., 0., 0., 0.],\n",
       "          ...,\n",
       "          [0., 0., 0.,  ..., 0., 0., 0.],\n",
       "          [0., 0., 0.,  ..., 0., 0., 0.],\n",
       "          [0., 0., 0.,  ..., 0., 0., 0.]]])}"
      ]
     },
     "execution_count": 36,
     "metadata": {},
     "output_type": "execute_result"
    }
   ],
   "source": [
    "processed_dataset[\"train\"][0]  # pixel_values will be loaded on fly"
   ]
  },
  {
   "cell_type": "markdown",
   "metadata": {},
   "source": [
    "### Model Creation and Training"
   ]
  },
  {
   "cell_type": "code",
   "execution_count": 40,
   "metadata": {
    "execution": {
     "iopub.execute_input": "2023-09-20T16:10:55.175769Z",
     "iopub.status.busy": "2023-09-20T16:10:55.175005Z",
     "iopub.status.idle": "2023-09-20T16:11:04.877164Z",
     "shell.execute_reply": "2023-09-20T16:11:04.876186Z",
     "shell.execute_reply.started": "2023-09-20T16:10:55.175727Z"
    }
   },
   "outputs": [
    {
     "data": {
      "application/vnd.jupyter.widget-view+json": {
       "model_id": "c0bb4020e5a145eb8bb6a2e86c9c1fdd",
       "version_major": 2,
       "version_minor": 0
      },
      "text/plain": [
       "Downloading (…)lve/main/config.json:   0%|          | 0.00/69.6k [00:00<?, ?B/s]"
      ]
     },
     "metadata": {},
     "output_type": "display_data"
    },
    {
     "data": {
      "application/vnd.jupyter.widget-view+json": {
       "model_id": "431e4ea6b7bc414095117fb56043dae7",
       "version_major": 2,
       "version_minor": 0
      },
      "text/plain": [
       "Downloading pytorch_model.bin:   0%|          | 0.00/114M [00:00<?, ?B/s]"
      ]
     },
     "metadata": {},
     "output_type": "display_data"
    },
    {
     "name": "stderr",
     "output_type": "stream",
     "text": [
      "Some weights of ConvNextForImageClassification were not initialized from the model checkpoint at facebook/convnext-tiny-224 and are newly initialized because the shapes did not match:\n",
      "- classifier.weight: found shape torch.Size([1000, 768]) in the checkpoint and torch.Size([2, 768]) in the model instantiated\n",
      "- classifier.bias: found shape torch.Size([1000]) in the checkpoint and torch.Size([2]) in the model instantiated\n",
      "You should probably TRAIN this model on a down-stream task to be able to use it for predictions and inference.\n"
     ]
    }
   ],
   "source": [
    "model = AutoModelForImageClassification.from_pretrained(\"facebook/convnext-tiny-224\", num_labels=len(class_labels), id2label=id2label, label2id=label2id,\n",
    "                                                                        ignore_mismatched_sizes=True)\n",
    "\n",
    "# we use ignore_mismatched_sizes=True coz \"facebook/convnext-tiny-224\" is already a fine-tuned model which has a classification head. By giving this param, we tell the\n",
    "#model to ignore this classification head and instead create a new one with 'lables' no. of classes in the classification head"
   ]
  },
  {
   "cell_type": "code",
   "execution_count": 41,
   "metadata": {
    "execution": {
     "iopub.execute_input": "2023-09-20T16:12:06.471282Z",
     "iopub.status.busy": "2023-09-20T16:12:06.470182Z",
     "iopub.status.idle": "2023-09-20T16:12:06.510845Z",
     "shell.execute_reply": "2023-09-20T16:12:06.509829Z",
     "shell.execute_reply.started": "2023-09-20T16:12:06.471235Z"
    }
   },
   "outputs": [],
   "source": [
    "# defining the training args\n",
    "\n",
    "args = TrainingArguments(\n",
    "    output_dir=\"results\",\n",
    "    remove_unused_columns=False,\n",
    "    num_train_epochs=15,\n",
    "    per_device_train_batch_size=8,\n",
    "    per_device_eval_batch_size=8,\n",
    "    gradient_accumulation_steps=4,\n",
    "    learning_rate=5e-4,\n",
    "    weight_decay=0.01,\n",
    "    evaluation_strategy=\"epoch\",\n",
    "    save_strategy=\"epoch\",\n",
    "    load_best_model_at_end=True,\n",
    "    metric_for_best_model=\"accuracy\",\n",
    "    logging_dir='logs'\n",
    ")\n",
    "\n",
    "# remove_unused_columns=False. This one will drop any features not used by the model's call function. By default it's True because usually it's ideal to drop\n",
    "#unused feature columns, making it easier to unpack inputs into the model's call function. But, in our case, we need the unused features ('image' in particular)\n",
    "#in order to create 'pixel_values'."
   ]
  },
  {
   "cell_type": "code",
   "execution_count": 42,
   "metadata": {
    "execution": {
     "iopub.execute_input": "2023-09-20T16:12:11.182787Z",
     "iopub.status.busy": "2023-09-20T16:12:11.182406Z",
     "iopub.status.idle": "2023-09-20T16:12:12.573043Z",
     "shell.execute_reply": "2023-09-20T16:12:12.572073Z",
     "shell.execute_reply.started": "2023-09-20T16:12:11.182757Z"
    }
   },
   "outputs": [
    {
     "data": {
      "application/vnd.jupyter.widget-view+json": {
       "model_id": "915d96a24bc64375a5f639cadc086816",
       "version_major": 2,
       "version_minor": 0
      },
      "text/plain": [
       "Downloading builder script:   0%|          | 0.00/1.65k [00:00<?, ?B/s]"
      ]
     },
     "metadata": {},
     "output_type": "display_data"
    }
   ],
   "source": [
    "# defining the metric\n",
    "\n",
    "metric = load_metric(\"accuracy\")\n",
    "\n",
    "def compute_metrics(eval_pred):\n",
    "    predictions, labels = eval_pred\n",
    "    predictions = np.argmax(predictions, axis=1)\n",
    "    return metric.compute(predictions=predictions, references=labels)"
   ]
  },
  {
   "cell_type": "code",
   "execution_count": 43,
   "metadata": {
    "execution": {
     "iopub.execute_input": "2023-09-20T16:12:14.354412Z",
     "iopub.status.busy": "2023-09-20T16:12:14.353668Z",
     "iopub.status.idle": "2023-09-20T16:12:14.360916Z",
     "shell.execute_reply": "2023-09-20T16:12:14.359943Z",
     "shell.execute_reply.started": "2023-09-20T16:12:14.354375Z"
    }
   },
   "outputs": [
    {
     "name": "stdout",
     "output_type": "stream",
     "text": [
      "ConvNextForImageClassification(\n",
      "  (convnext): ConvNextModel(\n",
      "    (embeddings): ConvNextEmbeddings(\n",
      "      (patch_embeddings): Conv2d(3, 96, kernel_size=(4, 4), stride=(4, 4))\n",
      "      (layernorm): ConvNextLayerNorm()\n",
      "    )\n",
      "    (encoder): ConvNextEncoder(\n",
      "      (stages): ModuleList(\n",
      "        (0): ConvNextStage(\n",
      "          (downsampling_layer): Identity()\n",
      "          (layers): Sequential(\n",
      "            (0): ConvNextLayer(\n",
      "              (dwconv): Conv2d(96, 96, kernel_size=(7, 7), stride=(1, 1), padding=(3, 3), groups=96)\n",
      "              (layernorm): ConvNextLayerNorm()\n",
      "              (pwconv1): Linear(in_features=96, out_features=384, bias=True)\n",
      "              (act): GELUActivation()\n",
      "              (pwconv2): Linear(in_features=384, out_features=96, bias=True)\n",
      "              (drop_path): Identity()\n",
      "            )\n",
      "            (1): ConvNextLayer(\n",
      "              (dwconv): Conv2d(96, 96, kernel_size=(7, 7), stride=(1, 1), padding=(3, 3), groups=96)\n",
      "              (layernorm): ConvNextLayerNorm()\n",
      "              (pwconv1): Linear(in_features=96, out_features=384, bias=True)\n",
      "              (act): GELUActivation()\n",
      "              (pwconv2): Linear(in_features=384, out_features=96, bias=True)\n",
      "              (drop_path): Identity()\n",
      "            )\n",
      "            (2): ConvNextLayer(\n",
      "              (dwconv): Conv2d(96, 96, kernel_size=(7, 7), stride=(1, 1), padding=(3, 3), groups=96)\n",
      "              (layernorm): ConvNextLayerNorm()\n",
      "              (pwconv1): Linear(in_features=96, out_features=384, bias=True)\n",
      "              (act): GELUActivation()\n",
      "              (pwconv2): Linear(in_features=384, out_features=96, bias=True)\n",
      "              (drop_path): Identity()\n",
      "            )\n",
      "          )\n",
      "        )\n",
      "        (1): ConvNextStage(\n",
      "          (downsampling_layer): Sequential(\n",
      "            (0): ConvNextLayerNorm()\n",
      "            (1): Conv2d(96, 192, kernel_size=(2, 2), stride=(2, 2))\n",
      "          )\n",
      "          (layers): Sequential(\n",
      "            (0): ConvNextLayer(\n",
      "              (dwconv): Conv2d(192, 192, kernel_size=(7, 7), stride=(1, 1), padding=(3, 3), groups=192)\n",
      "              (layernorm): ConvNextLayerNorm()\n",
      "              (pwconv1): Linear(in_features=192, out_features=768, bias=True)\n",
      "              (act): GELUActivation()\n",
      "              (pwconv2): Linear(in_features=768, out_features=192, bias=True)\n",
      "              (drop_path): Identity()\n",
      "            )\n",
      "            (1): ConvNextLayer(\n",
      "              (dwconv): Conv2d(192, 192, kernel_size=(7, 7), stride=(1, 1), padding=(3, 3), groups=192)\n",
      "              (layernorm): ConvNextLayerNorm()\n",
      "              (pwconv1): Linear(in_features=192, out_features=768, bias=True)\n",
      "              (act): GELUActivation()\n",
      "              (pwconv2): Linear(in_features=768, out_features=192, bias=True)\n",
      "              (drop_path): Identity()\n",
      "            )\n",
      "            (2): ConvNextLayer(\n",
      "              (dwconv): Conv2d(192, 192, kernel_size=(7, 7), stride=(1, 1), padding=(3, 3), groups=192)\n",
      "              (layernorm): ConvNextLayerNorm()\n",
      "              (pwconv1): Linear(in_features=192, out_features=768, bias=True)\n",
      "              (act): GELUActivation()\n",
      "              (pwconv2): Linear(in_features=768, out_features=192, bias=True)\n",
      "              (drop_path): Identity()\n",
      "            )\n",
      "          )\n",
      "        )\n",
      "        (2): ConvNextStage(\n",
      "          (downsampling_layer): Sequential(\n",
      "            (0): ConvNextLayerNorm()\n",
      "            (1): Conv2d(192, 384, kernel_size=(2, 2), stride=(2, 2))\n",
      "          )\n",
      "          (layers): Sequential(\n",
      "            (0): ConvNextLayer(\n",
      "              (dwconv): Conv2d(384, 384, kernel_size=(7, 7), stride=(1, 1), padding=(3, 3), groups=384)\n",
      "              (layernorm): ConvNextLayerNorm()\n",
      "              (pwconv1): Linear(in_features=384, out_features=1536, bias=True)\n",
      "              (act): GELUActivation()\n",
      "              (pwconv2): Linear(in_features=1536, out_features=384, bias=True)\n",
      "              (drop_path): Identity()\n",
      "            )\n",
      "            (1): ConvNextLayer(\n",
      "              (dwconv): Conv2d(384, 384, kernel_size=(7, 7), stride=(1, 1), padding=(3, 3), groups=384)\n",
      "              (layernorm): ConvNextLayerNorm()\n",
      "              (pwconv1): Linear(in_features=384, out_features=1536, bias=True)\n",
      "              (act): GELUActivation()\n",
      "              (pwconv2): Linear(in_features=1536, out_features=384, bias=True)\n",
      "              (drop_path): Identity()\n",
      "            )\n",
      "            (2): ConvNextLayer(\n",
      "              (dwconv): Conv2d(384, 384, kernel_size=(7, 7), stride=(1, 1), padding=(3, 3), groups=384)\n",
      "              (layernorm): ConvNextLayerNorm()\n",
      "              (pwconv1): Linear(in_features=384, out_features=1536, bias=True)\n",
      "              (act): GELUActivation()\n",
      "              (pwconv2): Linear(in_features=1536, out_features=384, bias=True)\n",
      "              (drop_path): Identity()\n",
      "            )\n",
      "            (3): ConvNextLayer(\n",
      "              (dwconv): Conv2d(384, 384, kernel_size=(7, 7), stride=(1, 1), padding=(3, 3), groups=384)\n",
      "              (layernorm): ConvNextLayerNorm()\n",
      "              (pwconv1): Linear(in_features=384, out_features=1536, bias=True)\n",
      "              (act): GELUActivation()\n",
      "              (pwconv2): Linear(in_features=1536, out_features=384, bias=True)\n",
      "              (drop_path): Identity()\n",
      "            )\n",
      "            (4): ConvNextLayer(\n",
      "              (dwconv): Conv2d(384, 384, kernel_size=(7, 7), stride=(1, 1), padding=(3, 3), groups=384)\n",
      "              (layernorm): ConvNextLayerNorm()\n",
      "              (pwconv1): Linear(in_features=384, out_features=1536, bias=True)\n",
      "              (act): GELUActivation()\n",
      "              (pwconv2): Linear(in_features=1536, out_features=384, bias=True)\n",
      "              (drop_path): Identity()\n",
      "            )\n",
      "            (5): ConvNextLayer(\n",
      "              (dwconv): Conv2d(384, 384, kernel_size=(7, 7), stride=(1, 1), padding=(3, 3), groups=384)\n",
      "              (layernorm): ConvNextLayerNorm()\n",
      "              (pwconv1): Linear(in_features=384, out_features=1536, bias=True)\n",
      "              (act): GELUActivation()\n",
      "              (pwconv2): Linear(in_features=1536, out_features=384, bias=True)\n",
      "              (drop_path): Identity()\n",
      "            )\n",
      "            (6): ConvNextLayer(\n",
      "              (dwconv): Conv2d(384, 384, kernel_size=(7, 7), stride=(1, 1), padding=(3, 3), groups=384)\n",
      "              (layernorm): ConvNextLayerNorm()\n",
      "              (pwconv1): Linear(in_features=384, out_features=1536, bias=True)\n",
      "              (act): GELUActivation()\n",
      "              (pwconv2): Linear(in_features=1536, out_features=384, bias=True)\n",
      "              (drop_path): Identity()\n",
      "            )\n",
      "            (7): ConvNextLayer(\n",
      "              (dwconv): Conv2d(384, 384, kernel_size=(7, 7), stride=(1, 1), padding=(3, 3), groups=384)\n",
      "              (layernorm): ConvNextLayerNorm()\n",
      "              (pwconv1): Linear(in_features=384, out_features=1536, bias=True)\n",
      "              (act): GELUActivation()\n",
      "              (pwconv2): Linear(in_features=1536, out_features=384, bias=True)\n",
      "              (drop_path): Identity()\n",
      "            )\n",
      "            (8): ConvNextLayer(\n",
      "              (dwconv): Conv2d(384, 384, kernel_size=(7, 7), stride=(1, 1), padding=(3, 3), groups=384)\n",
      "              (layernorm): ConvNextLayerNorm()\n",
      "              (pwconv1): Linear(in_features=384, out_features=1536, bias=True)\n",
      "              (act): GELUActivation()\n",
      "              (pwconv2): Linear(in_features=1536, out_features=384, bias=True)\n",
      "              (drop_path): Identity()\n",
      "            )\n",
      "          )\n",
      "        )\n",
      "        (3): ConvNextStage(\n",
      "          (downsampling_layer): Sequential(\n",
      "            (0): ConvNextLayerNorm()\n",
      "            (1): Conv2d(384, 768, kernel_size=(2, 2), stride=(2, 2))\n",
      "          )\n",
      "          (layers): Sequential(\n",
      "            (0): ConvNextLayer(\n",
      "              (dwconv): Conv2d(768, 768, kernel_size=(7, 7), stride=(1, 1), padding=(3, 3), groups=768)\n",
      "              (layernorm): ConvNextLayerNorm()\n",
      "              (pwconv1): Linear(in_features=768, out_features=3072, bias=True)\n",
      "              (act): GELUActivation()\n",
      "              (pwconv2): Linear(in_features=3072, out_features=768, bias=True)\n",
      "              (drop_path): Identity()\n",
      "            )\n",
      "            (1): ConvNextLayer(\n",
      "              (dwconv): Conv2d(768, 768, kernel_size=(7, 7), stride=(1, 1), padding=(3, 3), groups=768)\n",
      "              (layernorm): ConvNextLayerNorm()\n",
      "              (pwconv1): Linear(in_features=768, out_features=3072, bias=True)\n",
      "              (act): GELUActivation()\n",
      "              (pwconv2): Linear(in_features=3072, out_features=768, bias=True)\n",
      "              (drop_path): Identity()\n",
      "            )\n",
      "            (2): ConvNextLayer(\n",
      "              (dwconv): Conv2d(768, 768, kernel_size=(7, 7), stride=(1, 1), padding=(3, 3), groups=768)\n",
      "              (layernorm): ConvNextLayerNorm()\n",
      "              (pwconv1): Linear(in_features=768, out_features=3072, bias=True)\n",
      "              (act): GELUActivation()\n",
      "              (pwconv2): Linear(in_features=3072, out_features=768, bias=True)\n",
      "              (drop_path): Identity()\n",
      "            )\n",
      "          )\n",
      "        )\n",
      "      )\n",
      "    )\n",
      "    (layernorm): LayerNorm((768,), eps=1e-12, elementwise_affine=True)\n",
      "  )\n",
      "  (classifier): Linear(in_features=768, out_features=2, bias=True)\n",
      ")\n"
     ]
    }
   ],
   "source": [
    "print(model) # sanity check"
   ]
  },
  {
   "cell_type": "code",
   "execution_count": 44,
   "metadata": {
    "execution": {
     "iopub.execute_input": "2023-09-20T16:12:18.382420Z",
     "iopub.status.busy": "2023-09-20T16:12:18.381825Z",
     "iopub.status.idle": "2023-09-20T16:12:18.389215Z",
     "shell.execute_reply": "2023-09-20T16:12:18.388098Z",
     "shell.execute_reply.started": "2023-09-20T16:12:18.382383Z"
    }
   },
   "outputs": [],
   "source": [
    "def collate_fn(examples):\n",
    "    pixel_values = torch.stack([example[\"pixel_values\"] for example in examples])\n",
    "    labels = torch.tensor([example[\"label\"] for example in examples])\n",
    "\n",
    "    return {\"pixel_values\": pixel_values, \"labels\": labels}"
   ]
  },
  {
   "cell_type": "code",
   "execution_count": 45,
   "metadata": {
    "execution": {
     "iopub.execute_input": "2023-09-20T16:12:20.484149Z",
     "iopub.status.busy": "2023-09-20T16:12:20.483730Z",
     "iopub.status.idle": "2023-09-20T16:12:26.236430Z",
     "shell.execute_reply": "2023-09-20T16:12:26.235486Z",
     "shell.execute_reply.started": "2023-09-20T16:12:20.484105Z"
    }
   },
   "outputs": [],
   "source": [
    "# preparing the trainer\n",
    "\n",
    "trainer = Trainer(model=model, \n",
    "                  args=args, \n",
    "                  train_dataset=processed_dataset['train'], \n",
    "                  eval_dataset=processed_dataset['validation'], \n",
    "                  compute_metrics=compute_metrics,\n",
    "                  data_collator=collate_fn,\n",
    "                  callbacks=[EarlyStoppingCallback(early_stopping_patience=3)]\n",
    "                 )"
   ]
  },
  {
   "cell_type": "markdown",
   "metadata": {},
   "source": [
    "### Training"
   ]
  },
  {
   "cell_type": "code",
   "execution_count": 46,
   "metadata": {
    "execution": {
     "iopub.execute_input": "2023-09-20T16:12:32.857782Z",
     "iopub.status.busy": "2023-09-20T16:12:32.856720Z",
     "iopub.status.idle": "2023-09-20T16:17:42.834599Z",
     "shell.execute_reply": "2023-09-20T16:17:42.833604Z",
     "shell.execute_reply.started": "2023-09-20T16:12:32.857742Z"
    }
   },
   "outputs": [
    {
     "name": "stderr",
     "output_type": "stream",
     "text": [
      "\u001b[34m\u001b[1mwandb\u001b[0m: Logging into wandb.ai. (Learn how to deploy a W&B server locally: https://wandb.me/wandb-server)\n",
      "\u001b[34m\u001b[1mwandb\u001b[0m: You can find your API key in your browser here: https://wandb.ai/authorize\n",
      "\u001b[34m\u001b[1mwandb\u001b[0m: Paste an API key from your profile and hit enter, or press ctrl+c to quit:"
     ]
    },
    {
     "name": "stdin",
     "output_type": "stream",
     "text": [
      "  ········································\n"
     ]
    },
    {
     "name": "stderr",
     "output_type": "stream",
     "text": [
      "\u001b[34m\u001b[1mwandb\u001b[0m: Appending key for api.wandb.ai to your netrc file: /root/.netrc\n"
     ]
    },
    {
     "data": {
      "text/html": [
       "wandb version 0.15.10 is available!  To upgrade, please run:\n",
       " $ pip install wandb --upgrade"
      ],
      "text/plain": [
       "<IPython.core.display.HTML object>"
      ]
     },
     "metadata": {},
     "output_type": "display_data"
    },
    {
     "data": {
      "text/html": [
       "Tracking run with wandb version 0.15.9"
      ],
      "text/plain": [
       "<IPython.core.display.HTML object>"
      ]
     },
     "metadata": {},
     "output_type": "display_data"
    },
    {
     "data": {
      "text/html": [
       "Run data is saved locally in <code>/kaggle/working/wandb/run-20230920_161344-h80bnxuw</code>"
      ],
      "text/plain": [
       "<IPython.core.display.HTML object>"
      ]
     },
     "metadata": {},
     "output_type": "display_data"
    },
    {
     "data": {
      "text/html": [
       "Syncing run <strong><a href='https://wandb.ai/self-learning-/huggingface/runs/h80bnxuw' target=\"_blank\">eager-aardvark-1</a></strong> to <a href='https://wandb.ai/self-learning-/huggingface' target=\"_blank\">Weights & Biases</a> (<a href='https://wandb.me/run' target=\"_blank\">docs</a>)<br/>"
      ],
      "text/plain": [
       "<IPython.core.display.HTML object>"
      ]
     },
     "metadata": {},
     "output_type": "display_data"
    },
    {
     "data": {
      "text/html": [
       " View project at <a href='https://wandb.ai/self-learning-/huggingface' target=\"_blank\">https://wandb.ai/self-learning-/huggingface</a>"
      ],
      "text/plain": [
       "<IPython.core.display.HTML object>"
      ]
     },
     "metadata": {},
     "output_type": "display_data"
    },
    {
     "data": {
      "text/html": [
       " View run at <a href='https://wandb.ai/self-learning-/huggingface/runs/h80bnxuw' target=\"_blank\">https://wandb.ai/self-learning-/huggingface/runs/h80bnxuw</a>"
      ],
      "text/plain": [
       "<IPython.core.display.HTML object>"
      ]
     },
     "metadata": {},
     "output_type": "display_data"
    },
    {
     "data": {
      "text/html": [
       "\n",
       "    <div>\n",
       "      \n",
       "      <progress value='393' max='975' style='width:300px; height:20px; vertical-align: middle;'></progress>\n",
       "      [393/975 03:19 < 04:57, 1.96 it/s, Epoch 6/15]\n",
       "    </div>\n",
       "    <table border=\"1\" class=\"dataframe\">\n",
       "  <thead>\n",
       " <tr style=\"text-align: left;\">\n",
       "      <th>Epoch</th>\n",
       "      <th>Training Loss</th>\n",
       "      <th>Validation Loss</th>\n",
       "      <th>Accuracy</th>\n",
       "    </tr>\n",
       "  </thead>\n",
       "  <tbody>\n",
       "    <tr>\n",
       "      <td>0</td>\n",
       "      <td>No log</td>\n",
       "      <td>0.020746</td>\n",
       "      <td>0.994275</td>\n",
       "    </tr>\n",
       "    <tr>\n",
       "      <td>2</td>\n",
       "      <td>No log</td>\n",
       "      <td>0.206492</td>\n",
       "      <td>0.944656</td>\n",
       "    </tr>\n",
       "    <tr>\n",
       "      <td>2</td>\n",
       "      <td>No log</td>\n",
       "      <td>0.000906</td>\n",
       "      <td>1.000000</td>\n",
       "    </tr>\n",
       "    <tr>\n",
       "      <td>4</td>\n",
       "      <td>No log</td>\n",
       "      <td>0.019899</td>\n",
       "      <td>0.996183</td>\n",
       "    </tr>\n",
       "    <tr>\n",
       "      <td>4</td>\n",
       "      <td>No log</td>\n",
       "      <td>0.018387</td>\n",
       "      <td>0.998092</td>\n",
       "    </tr>\n",
       "    <tr>\n",
       "      <td>6</td>\n",
       "      <td>No log</td>\n",
       "      <td>0.018079</td>\n",
       "      <td>0.998092</td>\n",
       "    </tr>\n",
       "  </tbody>\n",
       "</table><p>"
      ],
      "text/plain": [
       "<IPython.core.display.HTML object>"
      ]
     },
     "metadata": {},
     "output_type": "display_data"
    },
    {
     "data": {
      "text/plain": [
       "TrainOutput(global_step=393, training_loss=0.03230318404336012, metrics={'train_runtime': 309.6705, 'train_samples_per_second': 101.43, 'train_steps_per_second': 3.149, 'total_flos': 3.157036493336248e+17, 'train_loss': 0.03230318404336012, 'epoch': 6.0})"
      ]
     },
     "execution_count": 46,
     "metadata": {},
     "output_type": "execute_result"
    }
   ],
   "source": [
    "## start the training!\n",
    "\n",
    "trainer.train()"
   ]
  },
  {
   "cell_type": "markdown",
   "metadata": {},
   "source": [
    "### Pushing the Model to the Hub"
   ]
  },
  {
   "cell_type": "code",
   "execution_count": 47,
   "metadata": {
    "execution": {
     "iopub.execute_input": "2023-09-20T16:17:56.156218Z",
     "iopub.status.busy": "2023-09-20T16:17:56.155112Z",
     "iopub.status.idle": "2023-09-20T16:18:09.597295Z",
     "shell.execute_reply": "2023-09-20T16:18:09.594272Z",
     "shell.execute_reply.started": "2023-09-20T16:17:56.156149Z"
    }
   },
   "outputs": [
    {
     "data": {
      "application/vnd.jupyter.widget-view+json": {
       "model_id": "8a329d96e8bb47298b28f121cb5b9b36",
       "version_major": 2,
       "version_minor": 0
      },
      "text/plain": [
       "pytorch_model.bin:   0%|          | 0.00/111M [00:00<?, ?B/s]"
      ]
     },
     "metadata": {},
     "output_type": "display_data"
    },
    {
     "data": {
      "text/plain": [
       "CommitInfo(commit_url='https://huggingface.co/Aaryan333/convnext-tiny-finetuned-misahub-auto-wce/commit/4eff1100c1bec53bae3743fbe41e82d0de5b5219', commit_message='Upload feature extractor', commit_description='', oid='4eff1100c1bec53bae3743fbe41e82d0de5b5219', pr_url=None, pr_revision=None, pr_num=None)"
      ]
     },
     "execution_count": 47,
     "metadata": {},
     "output_type": "execute_result"
    }
   ],
   "source": [
    "repo_name = \"convnext-tiny-finetuned-misahub-auto-wce\"\n",
    "\n",
    "model.push_to_hub(repo_name)\n",
    "feature_extractor.push_to_hub(repo_name)"
   ]
  },
  {
   "cell_type": "markdown",
   "metadata": {},
   "source": [
    "### Evaluation"
   ]
  },
  {
   "cell_type": "code",
   "execution_count": 48,
   "metadata": {
    "execution": {
     "iopub.execute_input": "2023-09-20T16:18:37.905858Z",
     "iopub.status.busy": "2023-09-20T16:18:37.905487Z",
     "iopub.status.idle": "2023-09-20T16:18:41.001638Z",
     "shell.execute_reply": "2023-09-20T16:18:41.000472Z",
     "shell.execute_reply.started": "2023-09-20T16:18:37.905828Z"
    }
   },
   "outputs": [
    {
     "data": {
      "text/html": [],
      "text/plain": [
       "<IPython.core.display.HTML object>"
      ]
     },
     "metadata": {},
     "output_type": "display_data"
    }
   ],
   "source": [
    "val_outputs = trainer.predict(processed_dataset['validation'])"
   ]
  },
  {
   "cell_type": "code",
   "execution_count": 50,
   "metadata": {
    "execution": {
     "iopub.execute_input": "2023-09-20T16:18:47.384149Z",
     "iopub.status.busy": "2023-09-20T16:18:47.383783Z",
     "iopub.status.idle": "2023-09-20T16:18:47.392414Z",
     "shell.execute_reply": "2023-09-20T16:18:47.391244Z",
     "shell.execute_reply.started": "2023-09-20T16:18:47.384118Z"
    }
   },
   "outputs": [
    {
     "name": "stdout",
     "output_type": "stream",
     "text": [
      "{'test_loss': 0.0009060282027348876, 'test_accuracy': 1.0, 'test_runtime': 3.0883, 'test_samples_per_second': 169.671, 'test_steps_per_second': 21.371}\n"
     ]
    }
   ],
   "source": [
    "print(val_outputs.metrics)"
   ]
  },
  {
   "cell_type": "code",
   "execution_count": 51,
   "metadata": {
    "execution": {
     "iopub.execute_input": "2023-09-20T16:19:00.284550Z",
     "iopub.status.busy": "2023-09-20T16:19:00.284145Z",
     "iopub.status.idle": "2023-09-20T16:19:00.291895Z",
     "shell.execute_reply": "2023-09-20T16:19:00.290759Z",
     "shell.execute_reply.started": "2023-09-20T16:19:00.284518Z"
    }
   },
   "outputs": [],
   "source": [
    "y_val = val_outputs.label_ids\n",
    "val_predictions = val_outputs.predictions.argmax(axis=1)"
   ]
  },
  {
   "cell_type": "code",
   "execution_count": 52,
   "metadata": {
    "execution": {
     "iopub.execute_input": "2023-09-20T16:19:02.556066Z",
     "iopub.status.busy": "2023-09-20T16:19:02.555652Z",
     "iopub.status.idle": "2023-09-20T16:19:02.564456Z",
     "shell.execute_reply": "2023-09-20T16:19:02.562653Z",
     "shell.execute_reply.started": "2023-09-20T16:19:02.556031Z"
    }
   },
   "outputs": [],
   "source": [
    "target_classes=[]\n",
    "\n",
    "for i in id2label.values():\n",
    "    target_classes.append(i)"
   ]
  },
  {
   "cell_type": "code",
   "execution_count": 53,
   "metadata": {
    "execution": {
     "iopub.execute_input": "2023-09-20T16:19:04.419061Z",
     "iopub.status.busy": "2023-09-20T16:19:04.418683Z",
     "iopub.status.idle": "2023-09-20T16:19:04.448411Z",
     "shell.execute_reply": "2023-09-20T16:19:04.447387Z",
     "shell.execute_reply.started": "2023-09-20T16:19:04.419027Z"
    }
   },
   "outputs": [
    {
     "name": "stdout",
     "output_type": "stream",
     "text": [
      "[[255   0]\n",
      " [  0 269]]\n",
      "\n",
      "\n",
      "Marco Precision Recall & F1 Scores: (1.0, 1.0, 1.0, None)\n",
      "Micro Precision Recall & F1 Scores: (1.0, 1.0, 1.0, None)\n",
      "\n",
      "\n",
      "              precision    recall  f1-score   support\n",
      "\n",
      "    bleeding       1.00      1.00      1.00       255\n",
      "non_bleeding       1.00      1.00      1.00       269\n",
      "\n",
      "    accuracy                           1.00       524\n",
      "   macro avg       1.00      1.00      1.00       524\n",
      "weighted avg       1.00      1.00      1.00       524\n",
      "\n"
     ]
    }
   ],
   "source": [
    "# validation data's metrics\n",
    "\n",
    "print(confusion_matrix(y_val, val_predictions))\n",
    "print('\\n')\n",
    "macroF1 = precision_recall_fscore_support(y_val, val_predictions, average='macro')\n",
    "microF1 = precision_recall_fscore_support(y_val, val_predictions, average='micro')\n",
    "print(\"Marco Precision Recall & F1 Scores: {}\".format(macroF1))\n",
    "print(\"Micro Precision Recall & F1 Scores: {}\".format(microF1))\n",
    "print(\"\\n\")\n",
    "print(classification_report(y_val, val_predictions, target_names=target_classes))"
   ]
  },
  {
   "cell_type": "code",
   "execution_count": 57,
   "metadata": {
    "execution": {
     "iopub.execute_input": "2023-09-20T16:22:44.511178Z",
     "iopub.status.busy": "2023-09-20T16:22:44.510710Z",
     "iopub.status.idle": "2023-09-20T16:22:44.922082Z",
     "shell.execute_reply": "2023-09-20T16:22:44.921081Z",
     "shell.execute_reply.started": "2023-09-20T16:22:44.511127Z"
    }
   },
   "outputs": [
    {
     "data": {
      "image/png": "[encoded data removed]",
      "text/plain": [
       "<Figure size 1000x1000 with 4 Axes>"
      ]
     },
     "metadata": {},
     "output_type": "display_data"
    }
   ],
   "source": [
    "#plotting the confusion matrix for validation data:\n",
    "\n",
    "fig, (ax1, ax2) = plt.subplots(2, figsize=(10,10))\n",
    "cm_plot_1 = ConfusionMatrixDisplay(confusion_matrix=confusion_matrix(y_val, val_predictions), display_labels=target_classes)\n",
    "cm_plot_2 = ConfusionMatrixDisplay(confusion_matrix=confusion_matrix(y_val, val_predictions, normalize='pred'), display_labels=target_classes)\n",
    "cm_plot_1.plot(ax=ax1)\n",
    "cm_plot_2.plot(ax=ax2)\n",
    "\n",
    "plt.show()"
   ]
  },
  {
   "cell_type": "markdown",
   "metadata": {},
   "source": [
    "__________________"
   ]
  }
 ],
 "metadata": {
  "kernelspec": {
   "display_name": "Python 3 (ipykernel)",
   "language": "python",
   "name": "python3"
  },
  "language_info": {
   "codemirror_mode": {
    "name": "ipython",
    "version": 3
   },
   "file_extension": ".py",
   "mimetype": "text/x-python",
   "name": "python",
   "nbconvert_exporter": "python",
   "pygments_lexer": "ipython3",
   "version": "3.9.12"
  }
 },
 "nbformat": 4,
 "nbformat_minor": 4
}
